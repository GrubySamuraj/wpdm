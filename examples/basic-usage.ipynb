{
 "cells": [
  {
   "cell_type": "code",
   "outputs": [],
   "source": [
    "%load_ext autoreload\n",
    "%autoreload 2"
   ],
   "metadata": {
    "collapsed": false,
    "ExecuteTime": {
     "end_time": "2024-03-12T22:41:35.855813Z",
     "start_time": "2024-03-12T22:41:35.761815Z"
    }
   },
   "id": "988804688f0877b5",
   "execution_count": 4
  },
  {
   "cell_type": "code",
   "execution_count": 5,
   "id": "initial_id",
   "metadata": {
    "collapsed": true,
    "ExecuteTime": {
     "end_time": "2024-03-12T22:41:35.918815Z",
     "start_time": "2024-03-12T22:41:35.857814Z"
    }
   },
   "outputs": [],
   "source": [
    "#Use this to load current python files (not installed package)\n",
    "#The two lines above allows to on-call reload of the module if anything changed in source files\n",
    "import sys\n",
    "sys.path.append('../src')\n"
   ]
  },
  {
   "cell_type": "code",
   "outputs": [
    {
     "name": "stdout",
     "output_type": "stream",
     "text": [
      "0\n"
     ]
    }
   ],
   "source": [
    "from wpdm.utils import foo\n",
    "print(foo(2,2))"
   ],
   "metadata": {
    "collapsed": false,
    "ExecuteTime": {
     "end_time": "2024-03-12T22:41:35.982818Z",
     "start_time": "2024-03-12T22:41:35.919815Z"
    }
   },
   "id": "2bd3ff794ba2e1f",
   "execution_count": 6
  },
  {
   "cell_type": "code",
   "outputs": [],
   "source": [],
   "metadata": {
    "collapsed": false,
    "ExecuteTime": {
     "end_time": "2024-03-12T22:41:35.998814Z",
     "start_time": "2024-03-12T22:41:35.983817Z"
    }
   },
   "id": "89e0db5c39fa5bc4",
   "execution_count": 6
  }
 ],
 "metadata": {
  "kernelspec": {
   "display_name": "Python 3",
   "language": "python",
   "name": "python3"
  },
  "language_info": {
   "codemirror_mode": {
    "name": "ipython",
    "version": 2
   },
   "file_extension": ".py",
   "mimetype": "text/x-python",
   "name": "python",
   "nbconvert_exporter": "python",
   "pygments_lexer": "ipython2",
   "version": "2.7.6"
  }
 },
 "nbformat": 4,
 "nbformat_minor": 5
}
