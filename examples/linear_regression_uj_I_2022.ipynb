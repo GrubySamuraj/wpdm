{
  "nbformat": 4,
  "nbformat_minor": 0,
  "metadata": {
    "colab": {
      "provenance": []
    },
    "language_info": {
      "name": "python"
    },
    "kernelspec": {
      "name": "python3",
      "display_name": "Python 3"
    }
  },
  "cells": [
    {
      "cell_type": "markdown",
      "metadata": {
        "id": "fgrE_UBfIsii"
      },
      "source": [
        "# Regresja Liniowa\n",
        "  1. Wczytanie danych\n",
        "  2. Wizualizacja danych\n",
        "  3. Regresja jednowymiarowa\n",
        "  7. Implementacja algorytmu GradientDescent\n",
        "  5. Closed-form solution\n",
        "  6. Porównanie z Tensorflow"
      ]
    },
    {
      "cell_type": "markdown",
      "metadata": {
        "id": "jotGMNMVhNjq"
      },
      "source": [
        "## Import bibliotek\n",
        "Zaimportuj niezbędne biblioteki, takie jak *numpy, pandas, files* z *google.colab* oraz *io*"
      ]
    },
    {
      "cell_type": "code",
      "metadata": {
        "id": "lKdy6xYLImhN"
      },
      "source": [],
      "execution_count": null,
      "outputs": []
    },
    {
      "cell_type": "markdown",
      "metadata": {
        "id": "XPrZ9kh3hGPh"
      },
      "source": [
        "## Wczytaj plik z danymi do DataFrame\n",
        "Plik, który należy załadować znajdue się tutaj [House sales train](https://szymon.bobek.re/kc_house_data_train.csv)\n",
        "\n",
        "**Uwaga** Jest to inny plik, niż ten używany podczas ostatnich zajęć."
      ]
    },
    {
      "cell_type": "code",
      "metadata": {
        "id": "aR1e1NJbhlTU"
      },
      "source": [],
      "execution_count": null,
      "outputs": []
    },
    {
      "cell_type": "markdown",
      "metadata": {
        "id": "L03Jk-u_Vbfx"
      },
      "source": [
        "## Wyświetl scatterplot ceny od sqtf_living"
      ]
    },
    {
      "cell_type": "code",
      "metadata": {
        "id": "ZachAnFSVjFw"
      },
      "source": [],
      "execution_count": null,
      "outputs": []
    },
    {
      "cell_type": "markdown",
      "metadata": {
        "id": "w4F_Vdz6Vmnb"
      },
      "source": [
        "## Wyświetl scatterplot ceny od bathrooms"
      ]
    },
    {
      "cell_type": "code",
      "metadata": {
        "id": "yI12W7ecVt_I"
      },
      "source": [],
      "execution_count": null,
      "outputs": []
    },
    {
      "cell_type": "markdown",
      "metadata": {
        "id": "aEvHOmcJWEv0"
      },
      "source": [
        "## Regresja jednowymiarowa\n",
        "### Podział zbioru danych\n",
        "Podziel zbiór danych na dwie części w proporcjach 66% na zbiór uczacy i 34% na zbiór testowy.\n",
        "Wykorzystaj [train_test_split](http://scikit-learn.org/stable/modules/generated/sklearn.model_selection.train_test_split.html)"
      ]
    },
    {
      "cell_type": "code",
      "metadata": {
        "id": "RTCdgY_8lQnP"
      },
      "source": [
        "from sklearn.model_selection import train_test_split\n",
        "\n"
      ],
      "execution_count": null,
      "outputs": []
    },
    {
      "cell_type": "markdown",
      "metadata": {
        "id": "16UXI8toWj8h"
      },
      "source": [
        "### Wersja scikit-learn"
      ]
    },
    {
      "cell_type": "code",
      "metadata": {
        "id": "accUoc2RWKo-"
      },
      "source": [
        "from sklearn import linear_model\n",
        "import matplotlib.pyplot as plt\n",
        "\n",
        "\n",
        "# Poniżej dwie wersje algorytmu, przetestuj obie i na końcu porównaj wyniki\n",
        "# Zobacz, że w pierwszej wersji nie podajemy praktycznie żadnych parametrów\n",
        "\n",
        "learning_rate = 0.01\n",
        "\n",
        "#regr = linear_model.LinearRegression()\n",
        "#regr = linear_model.SGDRegressor(learning_rate='constant', eta0=learning_rate)\n",
        "\n",
        "# Naucz model wykorzystując zbiór treningowy\n",
        "regr.fit(Tr['bathrooms'].values.reshape(-1,1), Tr['price'])\n",
        "\n",
        "theta_1 = regr.coef_[0]\n",
        "theta_0 = regr.intercept_\n",
        "\n",
        "# Poniże kod do wizualizacji. Przerrób go na funkcję,\n",
        "# tak aby można go było wykorzystać w dalszych ćwiczeniach\n",
        "ax=Tr.plot.scatter(x='bathrooms',y='price')\n",
        "x = np.linspace(0,14,100)\n",
        "y = theta_1*x+theta_0\n",
        "ax.plot(x,y,color='green')"
      ],
      "execution_count": null,
      "outputs": []
    },
    {
      "cell_type": "markdown",
      "metadata": {
        "id": "lVddyusN91ly"
      },
      "source": [
        "#### Wykorzystaj funkcję [predict](http://scikit-learn.org/stable/modules/generated/sklearn.linear_model.LinearRegression.html#sklearn.linear_model.LinearRegression.predict) na zbiorze testowym, żeby wyznaczyć ceny szacowane przez model."
      ]
    },
    {
      "cell_type": "code",
      "metadata": {
        "id": "DSbe5KeC9xXW"
      },
      "source": [],
      "execution_count": null,
      "outputs": []
    },
    {
      "cell_type": "markdown",
      "metadata": {
        "id": "58lKlVxg-Fnv"
      },
      "source": [
        "#### Wykorzystj funkcję [mean_squared_error](http://scikit-learn.org/stable/modules/generated/sklearn.metrics.mean_squared_error.html#sklearn.metrics.mean_squared_error) oraz [r2_score](https://scikit-learn.org/stable/modules/generated/sklearn.metrics.r2_score.html) żeby oszacować błąd predykcji na zbiorze testowym"
      ]
    },
    {
      "cell_type": "code",
      "metadata": {
        "id": "1TXWgNCW-ZOw"
      },
      "source": [],
      "execution_count": null,
      "outputs": []
    },
    {
      "cell_type": "markdown",
      "metadata": {
        "id": "jLMYmT1-WnfR"
      },
      "source": [
        "### Wersja tensorFlow\n",
        "Podczas zajęć będziemy używać Keras, będącej wysokopoziomowym interfejsem do TensorFlow.\n",
        "Żeby móc korzystac z Keras, należy go zainstalować. Wykonaj poniższy kod"
      ]
    },
    {
      "cell_type": "code",
      "metadata": {
        "id": "bkJLRSA8WrC1"
      },
      "source": [
        "# https://keras.io/\n",
        "#!pip install -q keras\n",
        "from keras.layers import Dense\n",
        "from keras.models import Model, Sequential\n",
        "from tensorflow.keras.optimizers import SGD\n",
        "import tensorflow as tf"
      ],
      "execution_count": null,
      "outputs": []
    },
    {
      "cell_type": "code",
      "metadata": {
        "id": "eBrNn1E6Dd_g"
      },
      "source": [
        "# Tworzymy model. Wszystko w TF i Keras to tak naprawdę sieć neuronowa.\n",
        "# Ale... sieć neuronowa to tylko kombinacja liniowa wejść i wag -- to samo co regresja liniowa\n",
        "model = Sequential([\n",
        "        Dense(1, activation='linear', input_shape=(1,))\n",
        "    ])\n",
        "\n",
        "# Optymalizator wykorzystywany w Keras, to w naszym przypadku Stochastic Gradient Descent\n",
        "# Spróbuj różne wartości lr (learning rate) i epochs.\n",
        "# Odpowiedz na pytanie \"co się dzieje????\"\"\n",
        "learning_rate = 0.01\n",
        "\n",
        "opti=SGD(lr=learning_rate, momentum=0.0)\n",
        "\n",
        "\n",
        "\n",
        "model.compile(loss='mse', optimizer=opti)\n",
        "model.fit(x=Tr['sqft_living'], y=Tr['price'], batch_size=1, epochs=10, shuffle=False)"
      ],
      "execution_count": null,
      "outputs": []
    },
    {
      "cell_type": "code",
      "metadata": {
        "id": "cvomnME5FeGR"
      },
      "source": [],
      "execution_count": null,
      "outputs": []
    },
    {
      "cell_type": "markdown",
      "metadata": {
        "id": "ZSupU1l2_fq_"
      },
      "source": [
        "#### Zwizualizuj model analogicznie do przypadku z scikit"
      ]
    },
    {
      "cell_type": "code",
      "metadata": {
        "id": "UKTfu5QNlNei"
      },
      "source": [
        "w=model.get_weights()\n",
        "theta_1 = w[0][0][0]\n",
        "theta_0 =[1][0]\n"
      ],
      "execution_count": null,
      "outputs": []
    },
    {
      "cell_type": "markdown",
      "metadata": {
        "id": "09815hZA-8jk"
      },
      "source": [
        "#### Wykorzystaj funkcję [predict](https://keras.io/models/model/#methods) na zbiorze testowym, żeby wyznaczyć ceny szacowane przez model."
      ]
    },
    {
      "cell_type": "code",
      "metadata": {
        "id": "MlmU059l_E84"
      },
      "source": [],
      "execution_count": null,
      "outputs": []
    },
    {
      "cell_type": "markdown",
      "metadata": {
        "id": "h535Mu6T_FFA"
      },
      "source": [
        "#### Wykorzystj funkcję [mean_squared_error](http://scikit-learn.org/stable/modules/generated/sklearn.metrics.mean_squared_error.html#sklearn.metrics.mean_squared_error) żeby oszacować błąd predykcji na zbiorze testowym"
      ]
    },
    {
      "cell_type": "code",
      "metadata": {
        "id": "EgJjkMjF_RFJ"
      },
      "source": [],
      "execution_count": null,
      "outputs": []
    },
    {
      "cell_type": "markdown",
      "metadata": {
        "id": "UWlStbX2_TLu"
      },
      "source": [
        "## Porównaj wyniki dla scikit i Keras da różnych zestawów cech\n",
        "Pamietaj żeby korzystać z zbioru testowego. Do porównania używaj funkcji `mean_squared_error` z poprzednich ćwiczeń"
      ]
    },
    {
      "cell_type": "code",
      "metadata": {
        "id": "mNK51KBi_Zg_"
      },
      "source": [],
      "execution_count": null,
      "outputs": []
    },
    {
      "cell_type": "markdown",
      "metadata": {
        "id": "O2aCG2oOuBKH"
      },
      "source": [
        "## Implementacja algorytmu Gradient Descent (dodatkowe punkty)\n",
        "Poniżej przedstawiony został szkielet dwóch funkcji odpowiedzialnych za realizację algorytmu Gradient descent.\n",
        "Uzupełnij implementację korzystajac z materiałów z wykładu.\n",
        "**Pamietaj, że w przypadku rozwiązania macierzowego, musisz dodać do zbioru cech X sztuczną cechę wypełnioną 1-kami, przez którą mnożony będzie wyraz wolny theta_0**"
      ]
    },
    {
      "cell_type": "code",
      "metadata": {
        "id": "3vSNzDu1uF2G"
      },
      "source": [
        "def cost_function(X, y, theta):\n",
        "    \"\"\"\n",
        "    cost_function(X, y, theta) oblicza koszt J(theta)\n",
        "\n",
        "    @param X: macierz z elementami uczącymi nxm\n",
        "    @param y: wartości rzeczywiste ze zbioru danych m,1\n",
        "    @param theta: wektor współczynników 1,n\n",
        "    \"\"\"\n",
        "    ## number of training examples\n",
        "    m = len(y)\n",
        "\n",
        "    J= None ## Twój kod tutaj, zgodnie ze wzorem podanym na stronie lab\n",
        "\n",
        "    return J\n"
      ],
      "execution_count": null,
      "outputs": []
    },
    {
      "cell_type": "code",
      "metadata": {
        "id": "PWFsKNw0uUiO"
      },
      "source": [
        "def gradient_descent(X, y, theta, alpha, iterations):\n",
        "    \"\"\"\n",
        "    Wykonuje algorytm gradient descent na danych podanych jako parametr.\n",
        "\n",
        "\n",
        "    @param X: macierz z elementami uczącymi nxm\n",
        "    @param y: wartości rzeczywiste ze zbioru danych m,1\n",
        "    @param theta: wektor współczynników 1,n\n",
        "    @param alpha: współczynnik uczenia, skalar\n",
        "    @param iterations: ilość iteracji po których algorytm ma zakończyć działanie\n",
        "    \"\"\"\n",
        "    cost_history = [0] * iterations\n",
        "\n",
        "    for iteration in range(iterations):\n",
        "\n",
        "        h_x = ## Twój kod tutaj, zgodnie ze wzorem podanym na stronie lab/wykładzie\n",
        "        gradient = ## Twój kod tutaj, zgodnie ze wzorem podanym na stronie lab/wykładzie\n",
        "        new_theta = ## Twój kod tutaj, zgodnie ze wzorem podanym na stronie lab/wykładzie\n",
        "\n",
        "        theta = new_theta\n",
        "        cost = cost_function(X, y, theta)\n",
        "        cost_history[iteration] = cost\n",
        "\n",
        "\n",
        "    return theta, cost_history"
      ],
      "execution_count": null,
      "outputs": []
    },
    {
      "cell_type": "markdown",
      "metadata": {
        "id": "KsonVSXVhU0g"
      },
      "source": [
        "### Porównanie działania algorytmu powyżej z pakietem scikit i TensorFlow\n",
        "Dokonaj porównania działania wersji zaimplementowanej przez Ciebei z poprzednimi wersjami.\n",
        "  1. **Spróbuj różnych atrubutów, ich kombinacji, itp.**\n",
        "  2. **Postaraj się zbudować jak najlepszy model (3 dodatkowe punkty dla najlepszego modelu w grupie)** Można pracować w grupach, ale punkty dzielą sie wówczas przez ilość osób w grupie\n",
        "  3. Przetestuj swój model na danych znajdujących się tutaj: [House sales test](https://szymon.bobek.re/kc_house_data_train.csv). **Uwaga** Nie ruszaj tego zbioru aż do samego końca. Finalny zbiór testowy jest używany tylko raz -- aby sprawdzić jakość modelu. Po takim teście nie poprawiamy więcej modelu. Dlaczego?"
      ]
    },
    {
      "cell_type": "code",
      "metadata": {
        "id": "vFZTKaqjuYYy"
      },
      "source": [],
      "execution_count": null,
      "outputs": []
    },
    {
      "cell_type": "markdown",
      "metadata": {
        "id": "nrr5kB3tFh9F"
      },
      "source": [
        "## Closed form solution\n",
        "Rozwiąż problem regresji liniowej wykorzystując `closed form solution`\n",
        "  1. Porównaj wyniki z metodami gradientowymi\n",
        "  2. Porównaj czas z metodami gradientowymi\n",
        "  3. Czy trzeba normalizować cechy w przypadku tego podejścia?"
      ]
    },
    {
      "cell_type": "code",
      "metadata": {
        "id": "Il3gKBZGGGD3"
      },
      "source": [],
      "execution_count": null,
      "outputs": []
    },
    {
      "cell_type": "code",
      "metadata": {
        "id": "ufz4MM1o4n9t"
      },
      "source": [],
      "execution_count": null,
      "outputs": []
    }
  ]
}